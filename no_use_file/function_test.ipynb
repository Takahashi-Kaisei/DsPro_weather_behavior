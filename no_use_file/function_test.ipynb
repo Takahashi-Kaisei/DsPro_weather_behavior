{
 "cells": [
  {
   "cell_type": "code",
   "execution_count": 1,
   "metadata": {},
   "outputs": [
    {
     "name": "stderr",
     "output_type": "stream",
     "text": [
      "/Users/takahashikaisei/Library/Python/3.9/lib/python/site-packages/urllib3/__init__.py:34: NotOpenSSLWarning: urllib3 v2.0 only supports OpenSSL 1.1.1+, currently the 'ssl' module is compiled with 'LibreSSL 2.8.3'. See: https://github.com/urllib3/urllib3/issues/3020\n",
      "  warnings.warn(\n"
     ]
    }
   ],
   "source": [
    "from bs4 import BeautifulSoup #スクレイピングのためのライブラリ\n",
    "import requests #HTTP操作用\n",
    "import re\n",
    "import time\n",
    "import pandas as pd\n",
    "import numpy as np\n",
    "import sqlite3"
   ]
  },
  {
   "cell_type": "code",
   "execution_count": null,
   "metadata": {},
   "outputs": [],
   "source": [
    "def createDB(year, month, )"
   ]
  },
  {
   "cell_type": "markdown",
   "metadata": {},
   "source": [
    "日数をカウントする関数を定義する"
   ]
  },
  {
   "cell_type": "code",
   "execution_count": 52,
   "metadata": {},
   "outputs": [],
   "source": [
    "def day_num_count(y, m):\n",
    "    if m in [1, 3, 5, 7, 8, 10, 12]:\n",
    "        day_num = 31\n",
    "    elif m in [4, 6, 9, 11]:\n",
    "        day_num = 30\n",
    "    elif m == 2:    \n",
    "        if y % 400 == 0:\n",
    "            day_num = 29\n",
    "        elif y % 100 == 0:\n",
    "            day_num = 28\n",
    "        elif y % 4 == 0:\n",
    "            day_num = 29\n",
    "        else:\n",
    "            day_num = 28\n",
    "    \n",
    "    return day_num"
   ]
  },
  {
   "cell_type": "code",
   "execution_count": null,
   "metadata": {},
   "outputs": [],
   "source": [
    "year = 2023\n",
    "month = 12\n",
    "\n",
    "#スクレイピングする部分\n",
    "url = f'https://www.data.jma.go.jp/obd/stats/etrn/view/daily_a1.php?prec_no=44&block_no=0370&year={year}&month={month}'\n",
    "r = requests.get(url)\n",
    "soup = BeautifulSoup(r.content, 'html.parser')\n",
    "tags = soup.find_all('td', class_='data_0_0')\n",
    "\n",
    "#データをリストにまとめる部分\n",
    "data = []\n",
    "for i in tags:\n",
    "    data.append(i.string)\n",
    "\n",
    "#日数をカウントする部分\n",
    "day_num_count(year, month)\n",
    "\n",
    "#リストを日数分区切る部分\n",
    "final_list = []\n",
    "final_list = np.array_split(data, day_num) #day_numの数に区切ればいい\n",
    "\n",
    "# データフレームに変換する部分\n",
    "df = pd.DataFrame(final_list, columns=[\n",
    "    \"合計降水量\",\n",
    "    \"最大一時間降水量\",\n",
    "    \"最大10分間降水量\",\n",
    "    \"平均気温\",\n",
    "    \"最高気温\",\n",
    "    \"最低気温\",\n",
    "    \"平均湿度\",\n",
    "    \"最小湿度\",\n",
    "    \"平均風速\",\n",
    "    \"最大風速\",\n",
    "    \"最大風速の風向き\",\n",
    "    \"最大瞬間風速\",\n",
    "    \"最大瞬間風速の風向き\",\n",
    "    \"最多風向き\",\n",
    "    \"日照時間\",\n",
    "    \"降雪の深さの合計\",\n",
    "    \"最深積雪\"\n",
    "    ])\n",
    "\n",
    "\n",
    "#日にちのリストを作る\n",
    "day = []\n",
    "for i in range(1, day_num+1):\n",
    "    day.append(i)\n",
    "\n",
    "#日付のリストを作る\n",
    "hiduke = []\n",
    "for tasu in day:\n",
    "    hiduke.append(str(month) + '/' + str(tasu))\n",
    "\n",
    "#シリーズ型に日付を格納\n",
    "s = pd.Series(hiduke, name='date')\n",
    "\n",
    "#データフレームに格納\n",
    "df.insert(0, '日付', s)\n",
    "\n",
    "\n",
    "\n",
    "con = sqlite3.connect('weather_scrape.sqlite') #データベースにアクセス\n",
    "\n",
    "df.to_sql('weather_scrape_data', con, if_exists='replace', index=False) #データベースに変換、if_exists='replace'で同じ名前のものがあったときに置き換える。index=Falseでindexを入れないように指定してる\n",
    "\n",
    "con.close() #データベースを閉じる"
   ]
  }
 ],
 "metadata": {
  "kernelspec": {
   "display_name": "Python 3",
   "language": "python",
   "name": "python3"
  },
  "language_info": {
   "codemirror_mode": {
    "name": "ipython",
    "version": 3
   },
   "file_extension": ".py",
   "mimetype": "text/x-python",
   "name": "python",
   "nbconvert_exporter": "python",
   "pygments_lexer": "ipython3",
   "version": "3.9.6"
  }
 },
 "nbformat": 4,
 "nbformat_minor": 2
}
