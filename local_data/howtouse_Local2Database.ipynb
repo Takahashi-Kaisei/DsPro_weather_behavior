{
 "cells": [
  {
   "cell_type": "code",
   "execution_count": 1,
   "metadata": {},
   "outputs": [],
   "source": [
    "import sqlite3\n",
    "from local_to_database import Local2Database"
   ]
  },
  {
   "cell_type": "markdown",
   "metadata": {},
   "source": [
    "削除"
   ]
  },
  {
   "cell_type": "code",
   "execution_count": 2,
   "metadata": {},
   "outputs": [],
   "source": [
    "con = sqlite3.connect('/Users/takahashikaisei/Lecture/ds_programing/final_kadai/local_data/screantime_local.sqlite')\n",
    "cur = con.cursor()\n",
    "\n",
    "cur.execute('DROP TABLE IF EXISTS screantime_data')\n",
    "con.commit()\n",
    "con.close()"
   ]
  },
  {
   "cell_type": "markdown",
   "metadata": {},
   "source": [
    "作成"
   ]
  },
  {
   "cell_type": "code",
   "execution_count": 3,
   "metadata": {},
   "outputs": [],
   "source": [
    "con = sqlite3.connect('/Users/takahashikaisei/Lecture/ds_programing/final_kadai/local_data/screantime_local.sqlite')\n",
    "cur = con.cursor()\n",
    "\n",
    "# テーブルを作成するSQL\n",
    "table_screan = 'CREATE TABLE screantime_data(日 str,sns int,game int,youtube int);'\n",
    "\n",
    "# 4．SQLを実行する\n",
    "cur.execute(table_screan)\n",
    "con.close()"
   ]
  },
  {
   "cell_type": "code",
   "execution_count": 4,
   "metadata": {},
   "outputs": [],
   "source": [
    "conversion = Local2Database(local_csv = '/Users/takahashikaisei/Lecture/ds_programing/final_kadai/local_data/screantime_data.csv')\n",
    "conversion.convert(local_csv = '/Users/takahashikaisei/Lecture/ds_programing/final_kadai/local_data/screantime_data.csv')"
   ]
  },
  {
   "cell_type": "markdown",
   "metadata": {},
   "source": [
    "表示"
   ]
  },
  {
   "cell_type": "code",
   "execution_count": 5,
   "metadata": {},
   "outputs": [
    {
     "name": "stdout",
     "output_type": "stream",
     "text": [
      "('2023/12/10', 222, 160, 159)\n",
      "('2023/12/11', 119, 52, 311)\n",
      "('2023/12/12', 60, 0, 391)\n",
      "('2023/12/13', 177, 119, 138)\n",
      "('2023/12/14', 179, 8, 413)\n",
      "('2023/12/15', 138, 8, 182)\n",
      "('2023/12/16', 74, 56, 429)\n",
      "('2023/12/17', 138, 67, 560)\n",
      "('2023/12/18', 31, 0, 201)\n",
      "('2023/12/19', 73, 24, 435)\n",
      "('2023/12/20', 59, 0, 524)\n",
      "('2023/12/21', 42, 0, 460)\n",
      "('2023/12/22', 58, 0, 327)\n",
      "('2023/12/23', 56, 22, 381)\n",
      "('2023/12/24', 90, 0, 247)\n",
      "('2023/12/25', 114, 0, 451)\n",
      "('2023/12/26', 146, 25, 254)\n",
      "('2023/12/27', 120, 6, 365)\n",
      "('2023/12/28', 82, 0, 275)\n",
      "('2023/12/29', 115, 3, 237)\n",
      "('2023/12/30', 241, 170, 186)\n",
      "('2023/12/31', 97, 72, 146)\n",
      "('2024/1/1', 214, 25, 268)\n",
      "('2024/1/2', 164, 221, 292)\n",
      "('2024/1/3', 96, 91, 111)\n",
      "('2024/1/4', 132, 0, 321)\n",
      "('2024/1/5', 167, 27, 183)\n",
      "('2024/1/6', 365, 0, 208)\n",
      "('2024/1/7', 210, 0, 736)\n",
      "('2024/1/8', 273, 0, 415)\n",
      "('2024/1/9', 131, 9, 248)\n",
      "('2024/1/10', 95, 0, 361)\n",
      "('2024/1/11', 128, 0, 208)\n",
      "('2024/1/12', 117, 32, 345)\n",
      "('2024/1/13', 109, 21, 299)\n"
     ]
    }
   ],
   "source": [
    "con = sqlite3.connect('/Users/takahashikaisei/Lecture/ds_programing/final_kadai/local_data/screantime_local.sqlite')\n",
    "cur = con.cursor()\n",
    "\n",
    "sql_select = \"SELECT * FROM screantime_data;\"\n",
    "\n",
    "cur.execute(sql_select)\n",
    "for r in cur:\n",
    "    print(r)\n",
    "\n",
    "con.close()"
   ]
  }
 ],
 "metadata": {
  "kernelspec": {
   "display_name": "Python 3",
   "language": "python",
   "name": "python3"
  },
  "language_info": {
   "codemirror_mode": {
    "name": "ipython",
    "version": 3
   },
   "file_extension": ".py",
   "mimetype": "text/x-python",
   "name": "python",
   "nbconvert_exporter": "python",
   "pygments_lexer": "ipython3",
   "version": "3.9.6"
  }
 },
 "nbformat": 4,
 "nbformat_minor": 2
}
