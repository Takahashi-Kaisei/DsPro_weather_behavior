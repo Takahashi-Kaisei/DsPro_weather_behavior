{
 "cells": [
  {
   "cell_type": "code",
   "execution_count": 3,
   "metadata": {},
   "outputs": [
    {
     "name": "stderr",
     "output_type": "stream",
     "text": [
      "/Users/takahashikaisei/Library/Python/3.9/lib/python/site-packages/urllib3/__init__.py:34: NotOpenSSLWarning: urllib3 v2.0 only supports OpenSSL 1.1.1+, currently the 'ssl' module is compiled with 'LibreSSL 2.8.3'. See: https://github.com/urllib3/urllib3/issues/3020\n",
      "  warnings.warn(\n"
     ]
    }
   ],
   "source": [
    "from bs4 import BeautifulSoup #スクレイピングのためのライブラリ\n",
    "import requests #HTTP操作用\n",
    "import re\n",
    "import time"
   ]
  },
  {
   "cell_type": "code",
   "execution_count": 4,
   "metadata": {},
   "outputs": [],
   "source": [
    "y = 2023\n",
    "m = 12\n",
    "url = f'https://www.data.jma.go.jp/obd/stats/etrn/view/daily_a1.php?prec_no=44&block_no=0370&year={y}&month={m}'\n",
    "r = requests.get(url)"
   ]
  },
  {
   "cell_type": "code",
   "execution_count": 5,
   "metadata": {},
   "outputs": [
    {
     "data": {
      "text/plain": [
       "<Response [200]>"
      ]
     },
     "execution_count": 5,
     "metadata": {},
     "output_type": "execute_result"
    }
   ],
   "source": [
    "r"
   ]
  },
  {
   "cell_type": "code",
   "execution_count": 17,
   "metadata": {},
   "outputs": [
    {
     "name": "stdout",
     "output_type": "stream",
     "text": [
      "<class 'bs4.BeautifulSoup'>\n"
     ]
    }
   ],
   "source": [
    "soup = BeautifulSoup(r.content, 'html.parser')\n",
    "print(type(soup))"
   ]
  },
  {
   "cell_type": "code",
   "execution_count": 7,
   "metadata": {},
   "outputs": [
    {
     "name": "stdout",
     "output_type": "stream",
     "text": [
      "気象庁｜過去の気象データ検索\n"
     ]
    }
   ],
   "source": [
    "print(soup.find('title').string)"
   ]
  },
  {
   "cell_type": "code",
   "execution_count": 11,
   "metadata": {},
   "outputs": [
    {
     "data": {
      "text/plain": [
       "[<table class=\"data2_s\" id=\"tablefix1\">\n",
       " <tr class=\"mtx\">\n",
       " <th rowspan=\"3\" scope=\"col\">日</th>\n",
       " <th colspan=\"3\" scope=\"colgroup\">降水量</th>\n",
       " <th colspan=\"3\" scope=\"colgroup\">気温</th>\n",
       " <th colspan=\"2\" scope=\"colgroup\">湿度</th>\n",
       " <th colspan=\"6\" scope=\"colgroup\">風向・風速</th>\n",
       " <th rowspan=\"3\" scope=\"col\">日照<br/>時間<br/>(h)</th>\n",
       " <th colspan=\"2\" scope=\"colgroup\">雪</th>\n",
       " </tr>\n",
       " <tr class=\"mtx\">\n",
       " <th rowspan=\"2\" scope=\"col\">合計<br/>(mm)</th><th rowspan=\"2\" scope=\"col\">最大1時間<br/>(mm)</th><th rowspan=\"2\" scope=\"col\">最大10分間<br/>(mm)</th>\n",
       " <th rowspan=\"2\" scope=\"col\">平均<br/>(℃)</th><th rowspan=\"2\" scope=\"col\">最高<br/>(℃)</th><th rowspan=\"2\" scope=\"col\">最低<br/>(℃)</th>\n",
       " <th rowspan=\"2\" scope=\"col\">平均<br/>(％)</th><th rowspan=\"2\" scope=\"col\">最小<br/>(％)</th>\n",
       " <th rowspan=\"2\" scope=\"col\">平均風速<br/>(m/s)</th><th colspan=\"2\" scope=\"colgroup\">最大</th><th colspan=\"2\" scope=\"colgroup\">最大瞬間</th><th rowspan=\"2\" scope=\"col\">最多<br/>風向</th>\n",
       " <th rowspan=\"2\" scope=\"col\">降雪の深さの<br/>合計(cm)</th><th rowspan=\"2\" scope=\"col\">最深積雪<br/>(cm)</th>\n",
       " </tr>\n",
       " <tr class=\"mtx\">\n",
       " <th scope=\"col\">風速(m/s)</th><th scope=\"col\">風向</th>\n",
       " <th scope=\"col\">風速(m/s)</th><th scope=\"col\">風向</th>\n",
       " </tr>\n",
       " <tr class=\"mtx\" style=\"text-align:right;\"><td style=\"white-space:nowrap\"><div class=\"a_print\"><a href=\"hourly_a1.php?prec_no=44&amp;block_no=0370&amp;year=2023&amp;month=12&amp;day=1&amp;view=p1\">1</a></div></td><td class=\"data_0_0\">0.0</td><td class=\"data_0_0\">0.0</td><td class=\"data_0_0\">0.0</td><td class=\"data_0_0\">9.0</td><td class=\"data_0_0\">13.2</td><td class=\"data_0_0\">5.6</td><td class=\"data_0_0\">///</td><td class=\"data_0_0\">///</td><td class=\"data_0_0\">2.2</td><td class=\"data_0_0\">4.1</td><td class=\"data_0_0\" style=\"text-align:center\">南東</td><td class=\"data_0_0\">6.6</td><td class=\"data_0_0\" style=\"text-align:center\">北</td><td class=\"data_0_0\" style=\"text-align:center\">北</td><td class=\"data_0_0\">6.0</td><td class=\"data_0_0\">///</td><td class=\"data_0_0\">///</td></tr>\n",
       " <tr class=\"mtx\" style=\"text-align:right;\"><td style=\"white-space:nowrap\"><div class=\"a_print\"><a href=\"hourly_a1.php?prec_no=44&amp;block_no=0370&amp;year=2023&amp;month=12&amp;day=2&amp;view=p1\">2</a></div></td><td class=\"data_0_0\">0.0</td><td class=\"data_0_0\">0.0</td><td class=\"data_0_0\">0.0</td><td class=\"data_0_0\">8.5</td><td class=\"data_0_0\">13.2</td><td class=\"data_0_0\">4.9</td><td class=\"data_0_0\">///</td><td class=\"data_0_0\">///</td><td class=\"data_0_0\">2.1</td><td class=\"data_0_0\">3.3</td><td class=\"data_0_0\" style=\"text-align:center\">北</td><td class=\"data_0_0\">6.2</td><td class=\"data_0_0\" style=\"text-align:center\">北西</td><td class=\"data_0_0\" style=\"text-align:center\">北</td><td class=\"data_0_0\">9.1</td><td class=\"data_0_0\">///</td><td class=\"data_0_0\">///</td></tr>\n",
       " <tr class=\"mtx\" style=\"text-align:right;\"><td style=\"white-space:nowrap\"><div class=\"a_print\"><a href=\"hourly_a1.php?prec_no=44&amp;block_no=0370&amp;year=2023&amp;month=12&amp;day=3&amp;view=p1\">3</a></div></td><td class=\"data_0_0\">0.0</td><td class=\"data_0_0\">0.0</td><td class=\"data_0_0\">0.0</td><td class=\"data_0_0\">9.7</td><td class=\"data_0_0\">16.0</td><td class=\"data_0_0\">4.9</td><td class=\"data_0_0\">///</td><td class=\"data_0_0\">///</td><td class=\"data_0_0\">3.0</td><td class=\"data_0_0\">8.5</td><td class=\"data_0_0\" style=\"text-align:center\">南西</td><td class=\"data_0_0\">10.7</td><td class=\"data_0_0\" style=\"text-align:center\">南西</td><td class=\"data_0_0\" style=\"text-align:center\">北北西</td><td class=\"data_0_0\">9.2</td><td class=\"data_0_0\">///</td><td class=\"data_0_0\">///</td></tr>\n",
       " <tr class=\"mtx\" style=\"text-align:right;\"><td style=\"white-space:nowrap\"><div class=\"a_print\"><a href=\"hourly_a1.php?prec_no=44&amp;block_no=0370&amp;year=2023&amp;month=12&amp;day=4&amp;view=p1\">4</a></div></td><td class=\"data_0_0\">0.0</td><td class=\"data_0_0\">0.0</td><td class=\"data_0_0\">0.0</td><td class=\"data_0_0\">9.6</td><td class=\"data_0_0\">14.2</td><td class=\"data_0_0\">5.6</td><td class=\"data_0_0\">///</td><td class=\"data_0_0\">///</td><td class=\"data_0_0\">2.2</td><td class=\"data_0_0\">4.1</td><td class=\"data_0_0\" style=\"text-align:center\">北北西</td><td class=\"data_0_0\">7.3</td><td class=\"data_0_0\" style=\"text-align:center\">北西</td><td class=\"data_0_0\" style=\"text-align:center\">北北西</td><td class=\"data_0_0\">9.2</td><td class=\"data_0_0\">///</td><td class=\"data_0_0\">///</td></tr>\n",
       " <tr class=\"mtx\" style=\"text-align:right;\"><td style=\"white-space:nowrap\"><div class=\"a_print\"><a href=\"hourly_a1.php?prec_no=44&amp;block_no=0370&amp;year=2023&amp;month=12&amp;day=5&amp;view=p1\">5</a></div></td><td class=\"data_0_0\">0.0</td><td class=\"data_0_0\">0.0</td><td class=\"data_0_0\">0.0</td><td class=\"data_0_0\">8.4</td><td class=\"data_0_0\">10.4</td><td class=\"data_0_0\">6.1</td><td class=\"data_0_0\">///</td><td class=\"data_0_0\">///</td><td class=\"data_0_0\">2.4</td><td class=\"data_0_0\">3.6</td><td class=\"data_0_0\" style=\"text-align:center\">北北西</td><td class=\"data_0_0\">7.3</td><td class=\"data_0_0\" style=\"text-align:center\">北北西</td><td class=\"data_0_0\" style=\"text-align:center\">北北西</td><td class=\"data_0_0\">0.0</td><td class=\"data_0_0\">///</td><td class=\"data_0_0\">///</td></tr>\n",
       " <tr class=\"mtx\" style=\"text-align:right;\"><td style=\"white-space:nowrap\"><div class=\"a_print\"><a href=\"hourly_a1.php?prec_no=44&amp;block_no=0370&amp;year=2023&amp;month=12&amp;day=6&amp;view=p1\">6</a></div></td><td class=\"data_0_0\">0.5</td><td class=\"data_0_0\">0.5</td><td class=\"data_0_0\">0.5</td><td class=\"data_0_0\">12.1</td><td class=\"data_0_0\">16.4</td><td class=\"data_0_0\">8.1</td><td class=\"data_0_0\">///</td><td class=\"data_0_0\">///</td><td class=\"data_0_0\">2.6</td><td class=\"data_0_0\">4.8</td><td class=\"data_0_0\" style=\"text-align:center\">南東</td><td class=\"data_0_0\">7.6</td><td class=\"data_0_0\" style=\"text-align:center\">北北東</td><td class=\"data_0_0\" style=\"text-align:center\">北</td><td class=\"data_0_0\">6.7</td><td class=\"data_0_0\">///</td><td class=\"data_0_0\">///</td></tr>\n",
       " <tr class=\"mtx\" style=\"text-align:right;\"><td style=\"white-space:nowrap\"><div class=\"a_print\"><a href=\"hourly_a1.php?prec_no=44&amp;block_no=0370&amp;year=2023&amp;month=12&amp;day=7&amp;view=p1\">7</a></div></td><td class=\"data_0_0\">0.0</td><td class=\"data_0_0\">0.0</td><td class=\"data_0_0\">0.0</td><td class=\"data_0_0\">14.0</td><td class=\"data_0_0\">19.3</td><td class=\"data_0_0\">9.1</td><td class=\"data_0_0\">///</td><td class=\"data_0_0\">///</td><td class=\"data_0_0\">5.0</td><td class=\"data_0_0\">15.3</td><td class=\"data_0_0\" style=\"text-align:center\">南西</td><td class=\"data_0_0\">19.0</td><td class=\"data_0_0\" style=\"text-align:center\">南西</td><td class=\"data_0_0\" style=\"text-align:center\">北北西</td><td class=\"data_0_0\">8.6 )</td><td class=\"data_0_0\">///</td><td class=\"data_0_0\">///</td></tr>\n",
       " <tr class=\"mtx\" style=\"text-align:right;\"><td style=\"white-space:nowrap\"><div class=\"a_print\"><a href=\"hourly_a1.php?prec_no=44&amp;block_no=0370&amp;year=2023&amp;month=12&amp;day=8&amp;view=p1\">8</a></div></td><td class=\"data_0_0\">0.0</td><td class=\"data_0_0\">0.0</td><td class=\"data_0_0\">0.0</td><td class=\"data_0_0\">13.2</td><td class=\"data_0_0\">18.3</td><td class=\"data_0_0\">6.1</td><td class=\"data_0_0\">///</td><td class=\"data_0_0\">///</td><td class=\"data_0_0\">2.7</td><td class=\"data_0_0\">5.1</td><td class=\"data_0_0\" style=\"text-align:center\">南南西</td><td class=\"data_0_0\">10.3</td><td class=\"data_0_0\" style=\"text-align:center\">北北西</td><td class=\"data_0_0\" style=\"text-align:center\">南西</td><td class=\"data_0_0\">8.4</td><td class=\"data_0_0\">///</td><td class=\"data_0_0\">///</td></tr>\n",
       " <tr class=\"mtx\" style=\"text-align:right;\"><td style=\"white-space:nowrap\"><div class=\"a_print\"><a href=\"hourly_a1.php?prec_no=44&amp;block_no=0370&amp;year=2023&amp;month=12&amp;day=9&amp;view=p1\">9</a></div></td><td class=\"data_0_0\">0.0</td><td class=\"data_0_0\">0.0</td><td class=\"data_0_0\">0.0</td><td class=\"data_0_0\">12.6</td><td class=\"data_0_0\">17.4</td><td class=\"data_0_0\">6.9</td><td class=\"data_0_0\">///</td><td class=\"data_0_0\">///</td><td class=\"data_0_0\">1.4</td><td class=\"data_0_0\">2.6</td><td class=\"data_0_0\" style=\"text-align:center\">南</td><td class=\"data_0_0\">4.5</td><td class=\"data_0_0\" style=\"text-align:center\">北北西</td><td class=\"data_0_0\" style=\"text-align:center\">北</td><td class=\"data_0_0\">8.7</td><td class=\"data_0_0\">///</td><td class=\"data_0_0\">///</td></tr>\n",
       " <tr class=\"mtx\" style=\"text-align:right;\"><td style=\"white-space:nowrap\"><div class=\"a_print\"><a href=\"hourly_a1.php?prec_no=44&amp;block_no=0370&amp;year=2023&amp;month=12&amp;day=10&amp;view=p1\">10</a></div></td><td class=\"data_0_0\">0.0</td><td class=\"data_0_0\">0.0</td><td class=\"data_0_0\">0.0</td><td class=\"data_0_0\">13.2</td><td class=\"data_0_0\">17.5</td><td class=\"data_0_0\">9.3</td><td class=\"data_0_0\">///</td><td class=\"data_0_0\">///</td><td class=\"data_0_0\">1.6</td><td class=\"data_0_0\">3.0</td><td class=\"data_0_0\" style=\"text-align:center\">北</td><td class=\"data_0_0\">5.2</td><td class=\"data_0_0\" style=\"text-align:center\">北</td><td class=\"data_0_0\" style=\"text-align:center\">北北西</td><td class=\"data_0_0\">9.1</td><td class=\"data_0_0\">///</td><td class=\"data_0_0\">///</td></tr>\n",
       " <tr class=\"mtx\" style=\"text-align:right;\"><td style=\"white-space:nowrap\"><div class=\"a_print\"><a href=\"hourly_a1.php?prec_no=44&amp;block_no=0370&amp;year=2023&amp;month=12&amp;day=11&amp;view=p1\">11</a></div></td><td class=\"data_0_0\">0.5</td><td class=\"data_0_0\">0.5</td><td class=\"data_0_0\">0.5</td><td class=\"data_0_0\">13.8</td><td class=\"data_0_0\">17.1</td><td class=\"data_0_0\">11.9</td><td class=\"data_0_0\">///</td><td class=\"data_0_0\">///</td><td class=\"data_0_0\">2.9</td><td class=\"data_0_0\">5.3</td><td class=\"data_0_0\" style=\"text-align:center\">北東</td><td class=\"data_0_0\">8.1</td><td class=\"data_0_0\" style=\"text-align:center\">北北東</td><td class=\"data_0_0\" style=\"text-align:center\">北</td><td class=\"data_0_0\">0.5</td><td class=\"data_0_0\">///</td><td class=\"data_0_0\">///</td></tr>\n",
       " <tr class=\"mtx\" style=\"text-align:right;\"><td style=\"white-space:nowrap\"><div class=\"a_print\"><a href=\"hourly_a1.php?prec_no=44&amp;block_no=0370&amp;year=2023&amp;month=12&amp;day=12&amp;view=p1\">12</a></div></td><td class=\"data_0_0\">26.0</td><td class=\"data_0_0\">5.0</td><td class=\"data_0_0\">1.5</td><td class=\"data_0_0\">12.1</td><td class=\"data_0_0\">14.9</td><td class=\"data_0_0\">10.0</td><td class=\"data_0_0\">///</td><td class=\"data_0_0\">///</td><td class=\"data_0_0\">2.2</td><td class=\"data_0_0\">4.0</td><td class=\"data_0_0\" style=\"text-align:center\">北北東</td><td class=\"data_0_0\">7.2</td><td class=\"data_0_0\" style=\"text-align:center\">北東</td><td class=\"data_0_0\" style=\"text-align:center\">北北東</td><td class=\"data_0_0\">1.0</td><td class=\"data_0_0\">///</td><td class=\"data_0_0\">///</td></tr>\n",
       " <tr class=\"mtx\" style=\"text-align:right;\"><td style=\"white-space:nowrap\"><div class=\"a_print\"><a href=\"hourly_a1.php?prec_no=44&amp;block_no=0370&amp;year=2023&amp;month=12&amp;day=13&amp;view=p1\">13</a></div></td><td class=\"data_0_0\">0.0</td><td class=\"data_0_0\">0.5</td><td class=\"data_0_0\">0.0</td><td class=\"data_0_0\">11.1</td><td class=\"data_0_0\">15.3</td><td class=\"data_0_0\">6.9</td><td class=\"data_0_0\">///</td><td class=\"data_0_0\">///</td><td class=\"data_0_0\">2.5</td><td class=\"data_0_0\">5.0</td><td class=\"data_0_0\" style=\"text-align:center\">北北西</td><td class=\"data_0_0\">9.2</td><td class=\"data_0_0\" style=\"text-align:center\">北</td><td class=\"data_0_0\" style=\"text-align:center\">北</td><td class=\"data_0_0\">9.1</td><td class=\"data_0_0\">///</td><td class=\"data_0_0\">///</td></tr>\n",
       " <tr class=\"mtx\" style=\"text-align:right;\"><td style=\"white-space:nowrap\"><div class=\"a_print\"><a href=\"hourly_a1.php?prec_no=44&amp;block_no=0370&amp;year=2023&amp;month=12&amp;day=14&amp;view=p1\">14</a></div></td><td class=\"data_0_0\">0.0</td><td class=\"data_0_0\">0.0</td><td class=\"data_0_0\">0.0</td><td class=\"data_0_0\">10.7</td><td class=\"data_0_0\">14.7</td><td class=\"data_0_0\">7.0</td><td class=\"data_0_0\">///</td><td class=\"data_0_0\">///</td><td class=\"data_0_0\">2.0</td><td class=\"data_0_0\">3.6</td><td class=\"data_0_0\" style=\"text-align:center\">北</td><td class=\"data_0_0\">6.6</td><td class=\"data_0_0\" style=\"text-align:center\">北</td><td class=\"data_0_0\" style=\"text-align:center\">北</td><td class=\"data_0_0\">8.1</td><td class=\"data_0_0\">///</td><td class=\"data_0_0\">///</td></tr>\n",
       " <tr class=\"mtx\" style=\"text-align:right;\"><td style=\"white-space:nowrap\"><div class=\"a_print\"><a href=\"hourly_a1.php?prec_no=44&amp;block_no=0370&amp;year=2023&amp;month=12&amp;day=15&amp;view=p1\">15</a></div></td><td class=\"data_0_0\">1.0</td><td class=\"data_0_0\">0.5</td><td class=\"data_0_0\">0.5</td><td class=\"data_0_0\">11.6</td><td class=\"data_0_0\">19.4</td><td class=\"data_0_0\">7.9</td><td class=\"data_0_0\">///</td><td class=\"data_0_0\">///</td><td class=\"data_0_0\">3.3</td><td class=\"data_0_0\">15.2</td><td class=\"data_0_0\" style=\"text-align:center\">南南西</td><td class=\"data_0_0\">21.2</td><td class=\"data_0_0\" style=\"text-align:center\">南南西</td><td class=\"data_0_0\" style=\"text-align:center\">北</td><td class=\"data_0_0\">0.0</td><td class=\"data_0_0\">///</td><td class=\"data_0_0\">///</td></tr>\n",
       " <tr class=\"mtx\" style=\"text-align:right;\"><td style=\"white-space:nowrap\"><div class=\"a_print\"><a href=\"hourly_a1.php?prec_no=44&amp;block_no=0370&amp;year=2023&amp;month=12&amp;day=16&amp;view=p1\">16</a></div></td><td class=\"data_0_0\">0.0</td><td class=\"data_0_0\">0.0</td><td class=\"data_0_0\">0.0</td><td class=\"data_0_0\">17.4</td><td class=\"data_0_0\">22.4</td><td class=\"data_0_0\">11.5</td><td class=\"data_0_0\">///</td><td class=\"data_0_0\">///</td><td class=\"data_0_0\">6.8</td><td class=\"data_0_0\">13.8</td><td class=\"data_0_0\" style=\"text-align:center\">南南西</td><td class=\"data_0_0\">18.5</td><td class=\"data_0_0\" style=\"text-align:center\">南西</td><td class=\"data_0_0\" style=\"text-align:center\">南南西</td><td class=\"data_0_0\">5.2</td><td class=\"data_0_0\">///</td><td class=\"data_0_0\">///</td></tr>\n",
       " <tr class=\"mtx\" style=\"text-align:right;\"><td style=\"white-space:nowrap\"><div class=\"a_print\"><a href=\"hourly_a1.php?prec_no=44&amp;block_no=0370&amp;year=2023&amp;month=12&amp;day=17&amp;view=p1\">17</a></div></td><td class=\"data_0_0\">0.0</td><td class=\"data_0_0\">0.0</td><td class=\"data_0_0\">0.0</td><td class=\"data_0_0\">11.4</td><td class=\"data_0_0\">16.9</td><td class=\"data_0_0\">6.2</td><td class=\"data_0_0\">///</td><td class=\"data_0_0\">///</td><td class=\"data_0_0\">4.9</td><td class=\"data_0_0\">13.5</td><td class=\"data_0_0\" style=\"text-align:center\">南西</td><td class=\"data_0_0\">19.1</td><td class=\"data_0_0\" style=\"text-align:center\">南西</td><td class=\"data_0_0\" style=\"text-align:center\">北北西</td><td class=\"data_0_0\">8.1</td><td class=\"data_0_0\">///</td><td class=\"data_0_0\">///</td></tr>\n",
       " <tr class=\"mtx\" style=\"text-align:right;\"><td style=\"white-space:nowrap\"><div class=\"a_print\"><a href=\"hourly_a1.php?prec_no=44&amp;block_no=0370&amp;year=2023&amp;month=12&amp;day=18&amp;view=p1\">18</a></div></td><td class=\"data_0_0\">0.0</td><td class=\"data_0_0\">0.0</td><td class=\"data_0_0\">0.0</td><td class=\"data_0_0\">7.5</td><td class=\"data_0_0\">11.4</td><td class=\"data_0_0\">4.8</td><td class=\"data_0_0\">///</td><td class=\"data_0_0\">///</td><td class=\"data_0_0\">2.8</td><td class=\"data_0_0\">5.0</td><td class=\"data_0_0\" style=\"text-align:center\">北西</td><td class=\"data_0_0\">9.5</td><td class=\"data_0_0\" style=\"text-align:center\">北西</td><td class=\"data_0_0\" style=\"text-align:center\">北北西</td><td class=\"data_0_0\">6.9</td><td class=\"data_0_0\">///</td><td class=\"data_0_0\">///</td></tr>\n",
       " <tr class=\"mtx\" style=\"text-align:right;\"><td style=\"white-space:nowrap\"><div class=\"a_print\"><a href=\"hourly_a1.php?prec_no=44&amp;block_no=0370&amp;year=2023&amp;month=12&amp;day=19&amp;view=p1\">19</a></div></td><td class=\"data_0_0\">0.0</td><td class=\"data_0_0\">0.0</td><td class=\"data_0_0\">0.0</td><td class=\"data_0_0\">7.2</td><td class=\"data_0_0\">10.3</td><td class=\"data_0_0\">4.1</td><td class=\"data_0_0\">///</td><td class=\"data_0_0\">///</td><td class=\"data_0_0\">1.8</td><td class=\"data_0_0\">2.9</td><td class=\"data_0_0\" style=\"text-align:center\">北東</td><td class=\"data_0_0\">4.9</td><td class=\"data_0_0\" style=\"text-align:center\">北</td><td class=\"data_0_0\" style=\"text-align:center\">北</td><td class=\"data_0_0\">3.1</td><td class=\"data_0_0\">///</td><td class=\"data_0_0\">///</td></tr>\n",
       " <tr class=\"mtx\" style=\"text-align:right;\"><td style=\"white-space:nowrap\"><div class=\"a_print\"><a href=\"hourly_a1.php?prec_no=44&amp;block_no=0370&amp;year=2023&amp;month=12&amp;day=20&amp;view=p1\">20</a></div></td><td class=\"data_0_0\">0.0</td><td class=\"data_0_0\">0.0</td><td class=\"data_0_0\">0.0</td><td class=\"data_0_0\">8.8</td><td class=\"data_0_0\">12.0</td><td class=\"data_0_0\">5.0</td><td class=\"data_0_0\">///</td><td class=\"data_0_0\">///</td><td class=\"data_0_0\">1.8</td><td class=\"data_0_0\">3.3</td><td class=\"data_0_0\" style=\"text-align:center\">南南東</td><td class=\"data_0_0\">4.7</td><td class=\"data_0_0\" style=\"text-align:center\">南</td><td class=\"data_0_0\" style=\"text-align:center\">北</td><td class=\"data_0_0\">6.4</td><td class=\"data_0_0\">///</td><td class=\"data_0_0\">///</td></tr>\n",
       " <tr class=\"mtx\" style=\"text-align:right;\"><td style=\"white-space:nowrap\"><div class=\"a_print\"><a href=\"hourly_a1.php?prec_no=44&amp;block_no=0370&amp;year=2023&amp;month=12&amp;day=21&amp;view=p1\">21</a></div></td><td class=\"data_0_0\">0.0</td><td class=\"data_0_0\">0.0</td><td class=\"data_0_0\">0.0</td><td class=\"data_0_0\">8.8</td><td class=\"data_0_0\">13.1</td><td class=\"data_0_0\">4.6</td><td class=\"data_0_0\">///</td><td class=\"data_0_0\">///</td><td class=\"data_0_0\">6.4</td><td class=\"data_0_0\">13.6</td><td class=\"data_0_0\" style=\"text-align:center\">南西</td><td class=\"data_0_0\">17.0</td><td class=\"data_0_0\" style=\"text-align:center\">南西</td><td class=\"data_0_0\" style=\"text-align:center\">南西</td><td class=\"data_0_0\">9.0</td><td class=\"data_0_0\">///</td><td class=\"data_0_0\">///</td></tr>\n",
       " <tr class=\"mtx\" style=\"text-align:right;\"><td style=\"white-space:nowrap\"><div class=\"a_print\"><a href=\"hourly_a1.php?prec_no=44&amp;block_no=0370&amp;year=2023&amp;month=12&amp;day=22&amp;view=p1\">22</a></div></td><td class=\"data_0_0\">0.0</td><td class=\"data_0_0\">0.0</td><td class=\"data_0_0\">0.0</td><td class=\"data_0_0\">6.0</td><td class=\"data_0_0\">10.9</td><td class=\"data_0_0\">0.9</td><td class=\"data_0_0\">///</td><td class=\"data_0_0\">///</td><td class=\"data_0_0\">3.3</td><td class=\"data_0_0\">7.7</td><td class=\"data_0_0\" style=\"text-align:center\">南南西</td><td class=\"data_0_0\">10.7</td><td class=\"data_0_0\" style=\"text-align:center\">南南西</td><td class=\"data_0_0\" style=\"text-align:center\">北北東</td><td class=\"data_0_0\">9.2</td><td class=\"data_0_0\">///</td><td class=\"data_0_0\">///</td></tr>\n",
       " <tr class=\"mtx\" style=\"text-align:right;\"><td style=\"white-space:nowrap\"><div class=\"a_print\"><a href=\"hourly_a1.php?prec_no=44&amp;block_no=0370&amp;year=2023&amp;month=12&amp;day=23&amp;view=p1\">23</a></div></td><td class=\"data_0_0\">0.0</td><td class=\"data_0_0\">0.0</td><td class=\"data_0_0\">0.0</td><td class=\"data_0_0\">5.5</td><td class=\"data_0_0\">10.7</td><td class=\"data_0_0\">0.2</td><td class=\"data_0_0\">///</td><td class=\"data_0_0\">///</td><td class=\"data_0_0\">1.6</td><td class=\"data_0_0\">3.2</td><td class=\"data_0_0\" style=\"text-align:center\">北西</td><td class=\"data_0_0\">7.3</td><td class=\"data_0_0\" style=\"text-align:center\">北西</td><td class=\"data_0_0\" style=\"text-align:center\">北</td><td class=\"data_0_0\">9.0</td><td class=\"data_0_0\">///</td><td class=\"data_0_0\">///</td></tr>\n",
       " <tr class=\"mtx\" style=\"text-align:right;\"><td style=\"white-space:nowrap\"><div class=\"a_print\"><a href=\"hourly_a1.php?prec_no=44&amp;block_no=0370&amp;year=2023&amp;month=12&amp;day=24&amp;view=p1\">24</a></div></td><td class=\"data_0_0\">0.0</td><td class=\"data_0_0\">0.0</td><td class=\"data_0_0\">0.0</td><td class=\"data_0_0\">5.3</td><td class=\"data_0_0\">9.6</td><td class=\"data_0_0\">2.0</td><td class=\"data_0_0\">///</td><td class=\"data_0_0\">///</td><td class=\"data_0_0\">1.9</td><td class=\"data_0_0\">3.2</td><td class=\"data_0_0\" style=\"text-align:center\">北</td><td class=\"data_0_0\">5.3</td><td class=\"data_0_0\" style=\"text-align:center\">北北西</td><td class=\"data_0_0\" style=\"text-align:center\">北</td><td class=\"data_0_0\">5.1</td><td class=\"data_0_0\">///</td><td class=\"data_0_0\">///</td></tr>\n",
       " <tr class=\"mtx\" style=\"text-align:right;\"><td style=\"white-space:nowrap\"><div class=\"a_print\"><a href=\"hourly_a1.php?prec_no=44&amp;block_no=0370&amp;year=2023&amp;month=12&amp;day=25&amp;view=p1\">25</a></div></td><td class=\"data_0_0\">0.0</td><td class=\"data_0_0\">0.0</td><td class=\"data_0_0\">0.0</td><td class=\"data_0_0\">6.9</td><td class=\"data_0_0\">13.3</td><td class=\"data_0_0\">0.1</td><td class=\"data_0_0\">///</td><td class=\"data_0_0\">///</td><td class=\"data_0_0\">1.6</td><td class=\"data_0_0\">3.2</td><td class=\"data_0_0\" style=\"text-align:center\">北北西</td><td class=\"data_0_0\">6.6</td><td class=\"data_0_0\" style=\"text-align:center\">北北西</td><td class=\"data_0_0\" style=\"text-align:center\">北</td><td class=\"data_0_0\">9.1</td><td class=\"data_0_0\">///</td><td class=\"data_0_0\">///</td></tr>\n",
       " <tr class=\"mtx\" style=\"text-align:right;\"><td style=\"white-space:nowrap\"><div class=\"a_print\"><a href=\"hourly_a1.php?prec_no=44&amp;block_no=0370&amp;year=2023&amp;month=12&amp;day=26&amp;view=p1\">26</a></div></td><td class=\"data_0_0\">0.0</td><td class=\"data_0_0\">0.0</td><td class=\"data_0_0\">0.0</td><td class=\"data_0_0\">8.2</td><td class=\"data_0_0\">13.3</td><td class=\"data_0_0\">2.2</td><td class=\"data_0_0\">///</td><td class=\"data_0_0\">///</td><td class=\"data_0_0\">2.4</td><td class=\"data_0_0\">8.4</td><td class=\"data_0_0\" style=\"text-align:center\">南南西</td><td class=\"data_0_0\">11.3</td><td class=\"data_0_0\" style=\"text-align:center\">南</td><td class=\"data_0_0\" style=\"text-align:center\">南南東</td><td class=\"data_0_0\">9.0</td><td class=\"data_0_0\">///</td><td class=\"data_0_0\">///</td></tr>\n",
       " <tr class=\"mtx\" style=\"text-align:right;\"><td style=\"white-space:nowrap\"><div class=\"a_print\"><a href=\"hourly_a1.php?prec_no=44&amp;block_no=0370&amp;year=2023&amp;month=12&amp;day=27&amp;view=p1\">27</a></div></td><td class=\"data_0_0\">0.0</td><td class=\"data_0_0\">0.0</td><td class=\"data_0_0\">0.0</td><td class=\"data_0_0\">8.8</td><td class=\"data_0_0\">12.8</td><td class=\"data_0_0\">3.7</td><td class=\"data_0_0\">///</td><td class=\"data_0_0\">///</td><td class=\"data_0_0\">2.4</td><td class=\"data_0_0\">4.6</td><td class=\"data_0_0\" style=\"text-align:center\">北</td><td class=\"data_0_0\">8.9</td><td class=\"data_0_0\" style=\"text-align:center\">北北西</td><td class=\"data_0_0\" style=\"text-align:center\">北北西</td><td class=\"data_0_0\">4.1</td><td class=\"data_0_0\">///</td><td class=\"data_0_0\">///</td></tr>\n",
       " <tr class=\"mtx\" style=\"text-align:right;\"><td style=\"white-space:nowrap\"><div class=\"a_print\"><a href=\"hourly_a1.php?prec_no=44&amp;block_no=0370&amp;year=2023&amp;month=12&amp;day=28&amp;view=p1\">28</a></div></td><td class=\"data_0_0\">0.0</td><td class=\"data_0_0\">0.0</td><td class=\"data_0_0\">0.0</td><td class=\"data_0_0\">7.1</td><td class=\"data_0_0\">9.8</td><td class=\"data_0_0\">5.3</td><td class=\"data_0_0\">///</td><td class=\"data_0_0\">///</td><td class=\"data_0_0\">2.1</td><td class=\"data_0_0\">4.1</td><td class=\"data_0_0\" style=\"text-align:center\">北</td><td class=\"data_0_0\">8.4</td><td class=\"data_0_0\" style=\"text-align:center\">北</td><td class=\"data_0_0\" style=\"text-align:center\">北</td><td class=\"data_0_0\">2.2</td><td class=\"data_0_0\">///</td><td class=\"data_0_0\">///</td></tr>\n",
       " <tr class=\"mtx\" style=\"text-align:right;\"><td style=\"white-space:nowrap\"><div class=\"a_print\"><a href=\"hourly_a1.php?prec_no=44&amp;block_no=0370&amp;year=2023&amp;month=12&amp;day=29&amp;view=p1\">29</a></div></td><td class=\"data_0_0\">0.0</td><td class=\"data_0_0\">0.0</td><td class=\"data_0_0\">0.0</td><td class=\"data_0_0\">7.7</td><td class=\"data_0_0\">14.0</td><td class=\"data_0_0\">2.2</td><td class=\"data_0_0\">///</td><td class=\"data_0_0\">///</td><td class=\"data_0_0\">1.5</td><td class=\"data_0_0\">3.1</td><td class=\"data_0_0\" style=\"text-align:center\">南南東</td><td class=\"data_0_0\">6.0</td><td class=\"data_0_0\" style=\"text-align:center\">北</td><td class=\"data_0_0\" style=\"text-align:center\">北</td><td class=\"data_0_0\">9.0</td><td class=\"data_0_0\">///</td><td class=\"data_0_0\">///</td></tr>\n",
       " <tr class=\"mtx\" style=\"text-align:right;\"><td style=\"white-space:nowrap\"><div class=\"a_print\"><a href=\"hourly_a1.php?prec_no=44&amp;block_no=0370&amp;year=2023&amp;month=12&amp;day=30&amp;view=p1\">30</a></div></td><td class=\"data_0_0\">0.0</td><td class=\"data_0_0\">0.0 )</td><td class=\"data_0_0\">0.0 )</td><td class=\"data_0_0\">9.3</td><td class=\"data_0_0\">15.4</td><td class=\"data_0_0\">5.8</td><td class=\"data_0_0\">///</td><td class=\"data_0_0\">///</td><td class=\"data_0_0\">2.1</td><td class=\"data_0_0\">4.3 )</td><td class=\"data_0_0\" style=\"text-align:center\">北 )</td><td class=\"data_0_0\">7.9</td><td class=\"data_0_0\" style=\"text-align:center\">北</td><td class=\"data_0_0\" style=\"text-align:center\">北</td><td class=\"data_0_0\">8.6</td><td class=\"data_0_0\">///</td><td class=\"data_0_0\">///</td></tr>\n",
       " <tr class=\"mtx\" style=\"text-align:right;\"><td style=\"white-space:nowrap\"><div class=\"a_print\"><a href=\"hourly_a1.php?prec_no=44&amp;block_no=0370&amp;year=2023&amp;month=12&amp;day=31&amp;view=p1\">31</a></div></td><td class=\"data_0_0\">1.5</td><td class=\"data_0_0\">1.0</td><td class=\"data_0_0\">0.5</td><td class=\"data_0_0\">9.5</td><td class=\"data_0_0\">13.3</td><td class=\"data_0_0\">6.3</td><td class=\"data_0_0\">///</td><td class=\"data_0_0\">///</td><td class=\"data_0_0\">1.8</td><td class=\"data_0_0\">3.3</td><td class=\"data_0_0\" style=\"text-align:center\">北北西</td><td class=\"data_0_0\">6.8</td><td class=\"data_0_0\" style=\"text-align:center\">北北西</td><td class=\"data_0_0\" style=\"text-align:center\">北</td><td class=\"data_0_0\">3.1</td><td class=\"data_0_0\">///</td><td class=\"data_0_0\">///</td></tr>\n",
       " </table>]"
      ]
     },
     "execution_count": 11,
     "metadata": {},
     "output_type": "execute_result"
    }
   ],
   "source": [
    "tags = soup.find_all('table',class_ = 'data2_s')\n",
    "tags"
   ]
  },
  {
   "cell_type": "markdown",
   "metadata": {},
   "source": [
    "classをdata_0_0で絞れば撮りたいものはとれる"
   ]
  },
  {
   "cell_type": "code",
   "execution_count": 20,
   "metadata": {},
   "outputs": [
    {
     "data": {
      "text/plain": [
       "'0.0'"
      ]
     },
     "execution_count": 20,
     "metadata": {},
     "output_type": "execute_result"
    }
   ],
   "source": [
    "tags2 = soup.find('td',class_ = 'data_0_0').string\n",
    "tags2"
   ]
  },
  {
   "cell_type": "markdown",
   "metadata": {},
   "source": [
    "これをfor文で回して、データベースにいい感じに格納すればいい"
   ]
  }
 ],
 "metadata": {
  "kernelspec": {
   "display_name": "Python 3",
   "language": "python",
   "name": "python3"
  },
  "language_info": {
   "codemirror_mode": {
    "name": "ipython",
    "version": 3
   },
   "file_extension": ".py",
   "mimetype": "text/x-python",
   "name": "python",
   "nbconvert_exporter": "python",
   "pygments_lexer": "ipython3",
   "version": "3.9.6"
  }
 },
 "nbformat": 4,
 "nbformat_minor": 2
}
